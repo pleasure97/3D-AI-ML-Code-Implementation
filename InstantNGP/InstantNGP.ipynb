{
 "cells": [
  {
   "cell_type": "markdown",
   "id": "4d375ba9",
   "metadata": {},
   "source": [
    "## Setting tiny-cuda-nn framework"
   ]
  },
  {
   "cell_type": "code",
   "execution_count": 1,
   "id": "27cf53fd",
   "metadata": {
    "scrolled": false
   },
   "outputs": [
    {
     "name": "stdout",
     "output_type": "stream",
     "text": [
      "Looking in indexes: https://download.pytorch.org/whl/cu117\n",
      "Requirement already satisfied: torch in c:\\users\\user\\anaconda3\\lib\\site-packages (2.0.0+cu117)\n",
      "Requirement already satisfied: torchvision in c:\\users\\user\\anaconda3\\lib\\site-packages (0.15.1+cu117)\n",
      "Requirement already satisfied: torchaudio in c:\\users\\user\\anaconda3\\lib\\site-packages (2.0.1+cu117)\n",
      "Requirement already satisfied: jinja2 in c:\\users\\user\\anaconda3\\lib\\site-packages (from torch) (2.11.3)\n",
      "Requirement already satisfied: filelock in c:\\users\\user\\anaconda3\\lib\\site-packages (from torch) (3.3.1)\n",
      "Requirement already satisfied: typing-extensions in c:\\users\\user\\anaconda3\\lib\\site-packages (from torch) (3.10.0.2)\n",
      "Requirement already satisfied: networkx in c:\\users\\user\\anaconda3\\lib\\site-packages (from torch) (2.6.3)\n",
      "Requirement already satisfied: sympy in c:\\users\\user\\anaconda3\\lib\\site-packages (from torch) (1.9)\n",
      "Requirement already satisfied: numpy in c:\\users\\user\\anaconda3\\lib\\site-packages (from torchvision) (1.20.3)\n",
      "Requirement already satisfied: requests in c:\\users\\user\\anaconda3\\lib\\site-packages (from torchvision) (2.26.0)\n",
      "Requirement already satisfied: pillow!=8.3.*,>=5.3.0 in c:\\users\\user\\anaconda3\\lib\\site-packages (from torchvision) (8.4.0)\n",
      "Requirement already satisfied: MarkupSafe>=0.23 in c:\\users\\user\\anaconda3\\lib\\site-packages (from jinja2->torch) (1.1.1)\n",
      "Requirement already satisfied: idna<4,>=2.5 in c:\\users\\user\\anaconda3\\lib\\site-packages (from requests->torchvision) (3.2)\n",
      "Requirement already satisfied: urllib3<1.27,>=1.21.1 in c:\\users\\user\\anaconda3\\lib\\site-packages (from requests->torchvision) (1.26.7)\n",
      "Requirement already satisfied: certifi>=2017.4.17 in c:\\users\\user\\anaconda3\\lib\\site-packages (from requests->torchvision) (2021.10.8)\n",
      "Requirement already satisfied: charset-normalizer~=2.0.0 in c:\\users\\user\\anaconda3\\lib\\site-packages (from requests->torchvision) (2.0.4)\n",
      "Requirement already satisfied: mpmath>=0.19 in c:\\users\\user\\anaconda3\\lib\\site-packages (from sympy->torch) (1.2.1)\n"
     ]
    }
   ],
   "source": [
    "# First, check the CUDA version on the PyTorch site. \n",
    "# Second, download the CUDA toolkit for your version. \n",
    "# Third, execute the command suggested on the PyTorch site. \n",
    "!pip3 install torch torchvision torchaudio --index-url https://download.pytorch.org/whl/cu117"
   ]
  },
  {
   "cell_type": "code",
   "execution_count": 2,
   "id": "1b316b9a",
   "metadata": {},
   "outputs": [
    {
     "data": {
      "text/plain": [
       "True"
      ]
     },
     "execution_count": 2,
     "metadata": {},
     "output_type": "execute_result"
    }
   ],
   "source": [
    "# Import PyTorch library and check CUDA is available. \n",
    "import torch\n",
    "torch.cuda.is_available()"
   ]
  },
  {
   "cell_type": "code",
   "execution_count": 5,
   "id": "ad92b6d2",
   "metadata": {},
   "outputs": [
    {
     "name": "stdout",
     "output_type": "stream",
     "text": [
      "Collecting git+https://github.com/NVlabs/tiny-cuda-nn/#subdirectory=bindings/torch"
     ]
    },
    {
     "name": "stderr",
     "output_type": "stream",
     "text": [
      "  Running command git clone -q https://github.com/NVlabs/tiny-cuda-nn/ 'C:\\Users\\user\\AppData\\Local\\Temp\\pip-req-build-2_3kdoo4'\n",
      "  Running command git submodule update --init --recursive -q\n"
     ]
    },
    {
     "name": "stdout",
     "output_type": "stream",
     "text": [
      "\n",
      "  Cloning https://github.com/NVlabs/tiny-cuda-nn/ to c:\\users\\user\\appdata\\local\\temp\\pip-req-build-2_3kdoo4\n",
      "  Resolved https://github.com/NVlabs/tiny-cuda-nn/ to commit 39df2387a684e4fe0cfa33542aebf5eab237716b\n",
      "Building wheels for collected packages: tinycudann\n",
      "  Building wheel for tinycudann (setup.py): started\n",
      "  Building wheel for tinycudann (setup.py): still running...\n",
      "  Building wheel for tinycudann (setup.py): still running...\n",
      "  Building wheel for tinycudann (setup.py): still running...\n",
      "  Building wheel for tinycudann (setup.py): finished with status 'done'\n",
      "  Created wheel for tinycudann: filename=tinycudann-1.7-cp39-cp39-win_amd64.whl size=25486788 sha256=e4daf06890f1c9732e68015ea55b3677c4776997de9c41175e862160386c1605\n",
      "  Stored in directory: C:\\Users\\user\\AppData\\Local\\Temp\\pip-ephem-wheel-cache-yx5pgpr8\\wheels\\a9\\17\\8d\\33c2914dcfb0b2fb1476d5d89ba4d3c896e5125178bdaeff3b\n",
      "Successfully built tinycudann\n",
      "Installing collected packages: tinycudann\n",
      "Successfully installed tinycudann-1.7\n"
     ]
    }
   ],
   "source": [
    "# Check your OS,and make sure C++ is installed and compiler path is defined as a system environment variable . \n",
    "# Download the tiny-cuda-nn-framework.\n",
    "!pip install git+https://github.com/NVlabs/tiny-cuda-nn/#subdirectory=bindings/torch"
   ]
  },
  {
   "cell_type": "markdown",
   "id": "3f25d81a",
   "metadata": {},
   "source": [
    "## Importing Libraries"
   ]
  },
  {
   "cell_type": "code",
   "execution_count": 8,
   "id": "397da644",
   "metadata": {},
   "outputs": [],
   "source": [
    "import os\n",
    "import numpy as np \n",
    "import torch \n",
    "import commentjson as json\n",
    "import tinycudann as tcnn\n",
    "import matplotlib.pyplot as plt"
   ]
  }
 ],
 "metadata": {
  "kernelspec": {
   "display_name": "Python 3 (ipykernel)",
   "language": "python",
   "name": "python3"
  },
  "language_info": {
   "codemirror_mode": {
    "name": "ipython",
    "version": 3
   },
   "file_extension": ".py",
   "mimetype": "text/x-python",
   "name": "python",
   "nbconvert_exporter": "python",
   "pygments_lexer": "ipython3",
   "version": "3.9.7"
  }
 },
 "nbformat": 4,
 "nbformat_minor": 5
}
