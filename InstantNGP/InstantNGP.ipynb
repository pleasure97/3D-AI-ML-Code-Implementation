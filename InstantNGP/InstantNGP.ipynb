{
 "cells": [
  {
   "cell_type": "markdown",
   "id": "a175e27f",
   "metadata": {},
   "source": [
    "# Code Practice : InstantNGP"
   ]
  },
  {
   "cell_type": "markdown",
   "id": "4830eebb",
   "metadata": {},
   "source": [
    "- instantNGP 모델을 NeRF 분야에 적용하고자 합니다."
   ]
  },
  {
   "cell_type": "markdown",
   "id": "f09e19d9",
   "metadata": {},
   "source": [
    "## Setting tiny-cuda-nn-framework"
   ]
  },
  {
   "cell_type": "code",
   "execution_count": 3,
   "id": "b0e527eb",
   "metadata": {},
   "outputs": [
    {
     "name": "stdout",
     "output_type": "stream",
     "text": [
      "Collecting git+https://github.com/NVlabs/tiny-cuda-nn/#subdirectory=bindings/torch\n",
      "  Cloning https://github.com/NVlabs/tiny-cuda-nn/ to c:\\users\\user\\appdata\\local\\temp\\pip-req-build-y4hr8eux\n",
      "  Resolved https://github.com/NVlabs/tiny-cuda-nn/ to commit 39df2387a684e4fe0cfa33542aebf5eab237716b\n",
      "  Preparing metadata (setup.py): started\n",
      "  Preparing metadata (setup.py): finished with status 'error'\n",
      "Note: you may need to restart the kernel to use updated packages.\n"
     ]
    },
    {
     "name": "stderr",
     "output_type": "stream",
     "text": [
      "  Running command git clone --filter=blob:none --quiet https://github.com/NVlabs/tiny-cuda-nn/ 'C:\\Users\\user\\AppData\\Local\\Temp\\pip-req-build-y4hr8eux'\n",
      "  Running command git submodule update --init --recursive -q\n",
      "  error: subprocess-exited-with-error\n",
      "  \n",
      "  python setup.py egg_info did not run successfully.\n",
      "  exit code: 1\n",
      "  \n",
      "  [7 lines of output]\n",
      "  Traceback (most recent call last):\n",
      "    File \"<string>\", line 2, in <module>\n",
      "    File \"<pip-setuptools-caller>\", line 34, in <module>\n",
      "    File \"C:\\Users\\user\\AppData\\Local\\Temp\\pip-req-build-y4hr8eux\\bindings/torch\\setup.py\", line 49, in <module>\n",
      "      raise EnvironmentError(\"Unknown compute capability. Specify the target compute capabilities in the TCNN_CUDA_ARCHITECTURES environment variable or install PyTorch with the CUDA backend to detect it automatically.\")\n",
      "  OSError: Unknown compute capability. Specify the target compute capabilities in the TCNN_CUDA_ARCHITECTURES environment variable or install PyTorch with the CUDA backend to detect it automatically.\n",
      "  Building PyTorch extension for tiny-cuda-nn version 1.7\n",
      "  [end of output]\n",
      "  \n",
      "  note: This error originates from a subprocess, and is likely not a problem with pip.\n",
      "error: metadata-generation-failed\n",
      "\n",
      "Encountered error while generating package metadata.\n",
      "\n",
      "See above for output.\n",
      "\n",
      "note: This is an issue with the package mentioned above, not pip.\n",
      "hint: See above for details.\n"
     ]
    }
   ],
   "source": [
    "pip install git+https://github.com/NVlabs/tiny-cuda-nn/#subdirectory=bindings/torch"
   ]
  },
  {
   "cell_type": "markdown",
   "id": "27a84d04",
   "metadata": {},
   "source": [
    "## Importing Libraries"
   ]
  },
  {
   "cell_type": "code",
   "execution_count": 1,
   "id": "047ac080",
   "metadata": {},
   "outputs": [],
   "source": [
    "import os\n",
    "import numpy as np\n",
    "import torch\n",
    "import commentjson as json\n",
    "import tinycudann as tcnn\n",
    "import matplotlib.pyplot as plt"
   ]
  },
  {
   "cell_type": "markdown",
   "id": "f2a09945",
   "metadata": {},
   "source": [
    "## Preprocessing Data"
   ]
  },
  {
   "cell_type": "code",
   "execution_count": null,
   "id": "a2194fd7",
   "metadata": {},
   "outputs": [],
   "source": []
  },
  {
   "cell_type": "markdown",
   "id": "048ca52f",
   "metadata": {},
   "source": [
    "## Utility Functions"
   ]
  },
  {
   "cell_type": "code",
   "execution_count": 10,
   "id": "96b44903",
   "metadata": {},
   "outputs": [],
   "source": [
    "# Spatial hash function\n",
    "def spatial_hash_fn(x, T):\n",
    "    '''\n",
    "    Inputs : \n",
    "        x -- torch.Tensor. d-dimensional input coordinate\n",
    "        T -- int. hash table size\n",
    "    '''\n",
    "    # \n",
    "    pi1 = 73856093\n",
    "    pi2 = 19349663\n",
    "    pi3 = 83492791\n",
    "    pi4 = 92843651\n",
    "    \n",
    "    pi = torch.Tensor([pi1, pi2, pi3, pi4], dtype = torch.int64)\n",
    "    \n",
    "    x = t.to(torch.int64)\n",
    "    \n",
    "    pi_scaled = pi.repeat(len(x) // len(pi) + 1)[:len(x)]\n",
    "    \n",
    "    h_x = (x ^ pi_scaled) % T  \n",
    "    \n",
    "    return h_x\n"
   ]
  },
  {
   "cell_type": "code",
   "execution_count": null,
   "id": "3bbe780f",
   "metadata": {},
   "outputs": [],
   "source": [
    "# Multiresolution Hash encoding\n",
    "def multires_hash_enc(x, L = 16, T, F = 2, N_min = 16, N_max):\n",
    "    '''\n",
    "    Inputs :\n",
    "        x -- torch.Tensor. d-dimensional input coordinate\n",
    "        L -- Int. the number of levels\n",
    "        T -- int. hash table size\n",
    "        F -- int. the number of feature dimensions per entry\n",
    "        N_min -- int. the coareset resolution\n",
    "        N_max -- int. the finest resolution\n",
    "        \n",
    "    Outputs :\n",
    "        \n",
    "    '''\n",
    "    \n",
    "    def _get_res_level(L, N_min, N_max) :\n",
    "        '''\n",
    "        Return a list that contains each resolution level \n",
    "        '''\n",
    "        b = torch.exp((torch.log(N_max) - torch.log(N_min)) / (L - 1))\n",
    "        \n",
    "        res_lst = [torch.floor(N_min * (b ** i)) for i in range(L)]    \n",
    "        \n",
    "        return res_lst\n",
    "    "
   ]
  },
  {
   "cell_type": "markdown",
   "id": "8a75df94",
   "metadata": {},
   "source": [
    "## Buliding Model"
   ]
  },
  {
   "cell_type": "markdown",
   "id": "e39b8f05",
   "metadata": {},
   "source": [
    "## Defining Variables"
   ]
  },
  {
   "cell_type": "markdown",
   "id": "d578aac1",
   "metadata": {},
   "source": [
    "## Training"
   ]
  },
  {
   "cell_type": "markdown",
   "id": "793623cb",
   "metadata": {},
   "source": [
    "## Inference and Visualize"
   ]
  }
 ],
 "metadata": {
  "kernelspec": {
   "display_name": "Python 3 (ipykernel)",
   "language": "python",
   "name": "python3"
  },
  "language_info": {
   "codemirror_mode": {
    "name": "ipython",
    "version": 3
   },
   "file_extension": ".py",
   "mimetype": "text/x-python",
   "name": "python",
   "nbconvert_exporter": "python",
   "pygments_lexer": "ipython3",
   "version": "3.9.13"
  }
 },
 "nbformat": 4,
 "nbformat_minor": 5
}
