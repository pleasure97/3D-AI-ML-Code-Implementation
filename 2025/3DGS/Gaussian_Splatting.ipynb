{
  "nbformat": 4,
  "nbformat_minor": 0,
  "metadata": {
    "colab": {
      "provenance": []
    },
    "kernelspec": {
      "name": "python3",
      "display_name": "Python 3"
    },
    "language_info": {
      "name": "python"
    }
  },
  "cells": [
    {
      "cell_type": "markdown",
      "source": [
        "# 3D Gaussian Splatting for Real-Time Radiance Field Rendering (SIGGRAPH 2023)\n",
        "\n",
        "arXiv - https://arxiv.org/abs/2308.04079"
      ],
      "metadata": {
        "id": "SZ89BVMDvaer"
      }
    },
    {
      "cell_type": "markdown",
      "source": [
        "## 0. What is 3D Gaussian Splatting?"
      ],
      "metadata": {
        "id": "0dezA-4AvxAD"
      }
    },
    {
      "cell_type": "markdown",
      "source": [
        "## 1. Preprocess the Dataset"
      ],
      "metadata": {
        "id": "KMSle1m8ylXF"
      }
    },
    {
      "cell_type": "markdown",
      "source": [
        "### 1.1 Download the NeRF-synthetic Dataset\n",
        "\n",
        "> The paper uses 3 datasets, NeRF-synthetic dataset, Mip-NeRF 360 dataset, and Tanks&Templates dataset.\n",
        "\n",
        "We will start with NeRF-synthetic dataset that are easy to access."
      ],
      "metadata": {
        "id": "XKr_XlL1zcKk"
      }
    },
    {
      "cell_type": "code",
      "source": [
        "!pip install gdown"
      ],
      "metadata": {
        "colab": {
          "base_uri": "https://localhost:8080/"
        },
        "id": "5GuL0Q1O-8ks",
        "outputId": "3aa9e946-68f9-4e8c-b49a-a3655ca80828"
      },
      "execution_count": 1,
      "outputs": [
        {
          "output_type": "stream",
          "name": "stdout",
          "text": [
            "Requirement already satisfied: gdown in /usr/local/lib/python3.10/dist-packages (5.2.0)\n",
            "Requirement already satisfied: beautifulsoup4 in /usr/local/lib/python3.10/dist-packages (from gdown) (4.12.3)\n",
            "Requirement already satisfied: filelock in /usr/local/lib/python3.10/dist-packages (from gdown) (3.16.1)\n",
            "Requirement already satisfied: requests[socks] in /usr/local/lib/python3.10/dist-packages (from gdown) (2.32.3)\n",
            "Requirement already satisfied: tqdm in /usr/local/lib/python3.10/dist-packages (from gdown) (4.67.1)\n",
            "Requirement already satisfied: soupsieve>1.2 in /usr/local/lib/python3.10/dist-packages (from beautifulsoup4->gdown) (2.6)\n",
            "Requirement already satisfied: charset-normalizer<4,>=2 in /usr/local/lib/python3.10/dist-packages (from requests[socks]->gdown) (3.4.0)\n",
            "Requirement already satisfied: idna<4,>=2.5 in /usr/local/lib/python3.10/dist-packages (from requests[socks]->gdown) (3.10)\n",
            "Requirement already satisfied: urllib3<3,>=1.21.1 in /usr/local/lib/python3.10/dist-packages (from requests[socks]->gdown) (2.2.3)\n",
            "Requirement already satisfied: certifi>=2017.4.17 in /usr/local/lib/python3.10/dist-packages (from requests[socks]->gdown) (2024.12.14)\n",
            "Requirement already satisfied: PySocks!=1.5.7,>=1.5.6 in /usr/local/lib/python3.10/dist-packages (from requests[socks]->gdown) (1.7.1)\n"
          ]
        }
      ]
    },
    {
      "cell_type": "code",
      "source": [
        "from pathlib import Path\n",
        "import gdown\n",
        "\n",
        "# Setup dataset folder\n",
        "dataset_path = Path(\"datasets/\")\n",
        "\n",
        "# Check if the dataset folder exists, and if not, download the dataset.\n",
        "if dataset_path.is_dir():\n",
        "  print(f\"[INFO] {dataset_path} already exists.\")\n",
        "else:\n",
        "  print(f\"[INFO] Cannot find {dataset_path}, creating the directory...\")\n",
        "  dataset_path.mkdir(parents=True, exist_ok=True)"
      ],
      "metadata": {
        "colab": {
          "base_uri": "https://localhost:8080/"
        },
        "id": "nvU6mdKe2JY_",
        "outputId": "cc1aec08-f64c-4e86-b021-7de58aab8ecc"
      },
      "execution_count": 2,
      "outputs": [
        {
          "output_type": "stream",
          "name": "stdout",
          "text": [
            "[INFO] Cannot find datasets, creating the directory...\n"
          ]
        }
      ]
    },
    {
      "cell_type": "code",
      "source": [
        "!gdown \"https://drive.google.com/uc?id=1OsiBs2udl32-1CqTXCitmov4NQCYdA9g\" -O \"./datasets/nerf_synthetic.zip\""
      ],
      "metadata": {
        "colab": {
          "base_uri": "https://localhost:8080/"
        },
        "id": "gDe8xlNt_Dbc",
        "outputId": "3ef16ad7-f66a-462a-dc60-77d53f27119a"
      },
      "execution_count": 3,
      "outputs": [
        {
          "output_type": "stream",
          "name": "stdout",
          "text": [
            "Downloading...\n",
            "From (original): https://drive.google.com/uc?id=1OsiBs2udl32-1CqTXCitmov4NQCYdA9g\n",
            "From (redirected): https://drive.google.com/uc?id=1OsiBs2udl32-1CqTXCitmov4NQCYdA9g&confirm=t&uuid=1ccac145-9bec-4eb8-b806-4542f08a901a\n",
            "To: /content/datasets/nerf_synthetic.zip\n",
            "100% 1.27G/1.27G [00:09<00:00, 130MB/s]\n"
          ]
        }
      ]
    },
    {
      "cell_type": "code",
      "source": [
        "import zipfile\n",
        "\n",
        "# Unzip NeRF_Synthetic dataset\n",
        "with zipfile.ZipFile(dataset_path / \"nerf_synthetic.zip\", \"r\") as zip_ref:\n",
        "  print(\"[INFO] Unzipping nerf_synthetic dataset...\")\n",
        "  zip_ref.extractall(dataset_path)\n",
        "\n",
        "# Delete existing compressed dataset file\n",
        "!rm \"./datasets/nerf_synthetic.zip\""
      ],
      "metadata": {
        "colab": {
          "base_uri": "https://localhost:8080/"
        },
        "id": "DT7C4qYdIC7i",
        "outputId": "503b3476-15bd-415c-9dc7-f94dbc33a542"
      },
      "execution_count": 7,
      "outputs": [
        {
          "output_type": "stream",
          "name": "stdout",
          "text": [
            "[INFO] Unzipping nerf_synthetic dataset...\n"
          ]
        }
      ]
    },
    {
      "cell_type": "markdown",
      "source": [
        "### 1.2 Explore the NeRF-synthetic dataset"
      ],
      "metadata": {
        "id": "XDFnSyh6Jgkr"
      }
    },
    {
      "cell_type": "markdown",
      "source": [
        "Stats:\n",
        "+ 8 Scenes\n",
        "+ 100 Training images\n",
        "+ 100 Validation images\n",
        "+ 200 Test images\n",
        "+ Images are 800x800\n",
        "\n",
        "Structure:\n",
        "  * SCENE_NAME\n",
        "    * train\n",
        "      * r_num.png\n",
        "    * val\n",
        "      * r_num.png\n",
        "    * test\n",
        "      * r_num.png\n",
        "      * r_num_depth_0000.png\n",
        "      * r_num_normal_0000.png\n",
        "    * transforms_train.json\n",
        "    * transforms_val.json\n",
        "    * transforms_test.json\n",
        "\n",
        "Transform json details:\n",
        "  * camera_angle_x: The FOV in x dimension\n",
        "  * frames: List of dictionaries that contain the camera transform matrices for each image."
      ],
      "metadata": {
        "id": "D61B46-dODoW"
      }
    },
    {
      "cell_type": "code",
      "source": [
        "import random\n",
        "from PIL import Image\n",
        "\n",
        "# Set seed\n",
        "random.seed(42)\n",
        "\n"
      ],
      "metadata": {
        "id": "1EjAUBeJSlMY"
      },
      "execution_count": null,
      "outputs": []
    },
    {
      "cell_type": "markdown",
      "source": [
        "## References\n",
        "\n",
        "https://xoft.tistory.com/44\n",
        "\n",
        "https://xoft.tistory.com/51"
      ],
      "metadata": {
        "id": "0goiVfWOzD9s"
      }
    }
  ]
}