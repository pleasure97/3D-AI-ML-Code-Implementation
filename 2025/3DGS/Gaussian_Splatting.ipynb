{
  "nbformat": 4,
  "nbformat_minor": 0,
  "metadata": {
    "colab": {
      "provenance": []
    },
    "kernelspec": {
      "name": "python3",
      "display_name": "Python 3"
    },
    "language_info": {
      "name": "python"
    }
  },
  "cells": [
    {
      "cell_type": "code",
      "execution_count": 1,
      "metadata": {
        "colab": {
          "base_uri": "https://localhost:8080/"
        },
        "id": "1k7uf7mgA2Z_",
        "outputId": "8a1d3a18-675f-4fe4-9f8f-f5a4e8a7e71b"
      },
      "outputs": [
        {
          "output_type": "stream",
          "name": "stdout",
          "text": [
            "Hello, Gaussian Splatting!\n"
          ]
        }
      ],
      "source": [
        "print(\"Hello, Gaussian Splatting!\")"
      ]
    }
  ]
}